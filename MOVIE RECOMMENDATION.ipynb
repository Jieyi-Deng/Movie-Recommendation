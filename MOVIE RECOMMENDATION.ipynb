{
 "cells": [
  {
   "cell_type": "markdown",
   "metadata": {},
   "source": [
    "### Moive Recommendation\n",
    "In this notebook, I will use an Alternating Least Squares (ALS) algorithm with Spark APIs to predict the ratings for the movies in [MovieLens small dataset](https://grouplens.org/datasets/movielens/latest/)"
   ]
  },
  {
   "cell_type": "code",
   "execution_count": 2,
   "metadata": {
    "collapsed": true
   },
   "outputs": [
    {
     "data": {
      "text/html": [
       "<style scoped>\n",
       "  .ansiout {\n",
       "    display: block;\n",
       "    unicode-bidi: embed;\n",
       "    white-space: pre-wrap;\n",
       "    word-wrap: break-word;\n",
       "    word-break: break-all;\n",
       "    font-family: \"Source Code Pro\", \"Menlo\", monospace;;\n",
       "    font-size: 13px;\n",
       "    color: #555;\n",
       "    margin-left: 4px;\n",
       "    line-height: 19px;\n",
       "  }\n",
       "</style>\n",
       "<div class=\"ansiout\"></div>"
      ]
     },
     "metadata": {},
     "output_type": "display_data"
    }
   ],
   "source": [
    "#import packages\n",
    "import findspark\n",
    "import numpy as np\n",
    "import pandas as pd\n",
    "import seaborn as sns\n",
    "import matplotlib.pyplot as plt\n",
    "import math\n",
    "from pyspark.sql import SparkSession\n",
    "from pyspark.sql import functions as F\n",
    "from pyspark.sql.types import ArrayType\n",
    "from pyspark.sql.types import StringType\n",
    "from pyspark.sql import Row\n",
    "from csv import reader\n",
    "from pyspark.ml.evaluation import RegressionEvaluator\n",
    "#ALS model\n",
    "from pyspark.mllib.recommendation import ALS"
   ]
  },
  {
   "cell_type": "code",
   "execution_count": 3,
   "metadata": {
    "collapsed": true
   },
   "outputs": [
    {
     "data": {
      "text/html": [
       "<style scoped>\n",
       "  .ansiout {\n",
       "    display: block;\n",
       "    unicode-bidi: embed;\n",
       "    white-space: pre-wrap;\n",
       "    word-wrap: break-word;\n",
       "    word-break: break-all;\n",
       "    font-family: \"Source Code Pro\", \"Menlo\", monospace;;\n",
       "    font-size: 13px;\n",
       "    color: #555;\n",
       "    margin-left: 4px;\n",
       "    line-height: 19px;\n",
       "  }\n",
       "</style>\n",
       "<div class=\"ansiout\"></div>"
      ]
     },
     "metadata": {},
     "output_type": "display_data"
    }
   ],
   "source": [
    "import os\n",
    "os.environ[\"PYSPARK_PYTHON\"] = \"python3\""
   ]
  },
  {
   "cell_type": "markdown",
   "metadata": {},
   "source": [
    "## Part1: Data ETL and Data Exploration"
   ]
  },
  {
   "cell_type": "code",
   "execution_count": 5,
   "metadata": {
    "collapsed": true
   },
   "outputs": [
    {
     "data": {
      "text/html": [
       "<style scoped>\n",
       "  .ansiout {\n",
       "    display: block;\n",
       "    unicode-bidi: embed;\n",
       "    white-space: pre-wrap;\n",
       "    word-wrap: break-word;\n",
       "    word-break: break-all;\n",
       "    font-family: \"Source Code Pro\", \"Menlo\", monospace;;\n",
       "    font-size: 13px;\n",
       "    color: #555;\n",
       "    margin-left: 4px;\n",
       "    line-height: 19px;\n",
       "  }\n",
       "</style>\n",
       "<div class=\"ansiout\"></div>"
      ]
     },
     "metadata": {},
     "output_type": "display_data"
    }
   ],
   "source": [
    "spark = (\n",
    "    SparkSession.builder\n",
    "        .master(\"local[*]\")\n",
    "        .appName(\"Spark Movie Recommendation Project\")\n",
    "        .getOrCreate()\n",
    ")\n",
    "sc = spark.sparkContext"
   ]
  },
  {
   "cell_type": "code",
   "execution_count": 6,
   "metadata": {
    "collapsed": true
   },
   "outputs": [
    {
     "data": {
      "text/html": [
       "<style scoped>\n",
       "  .ansiout {\n",
       "    display: block;\n",
       "    unicode-bidi: embed;\n",
       "    white-space: pre-wrap;\n",
       "    word-wrap: break-word;\n",
       "    word-break: break-all;\n",
       "    font-family: \"Source Code Pro\", \"Menlo\", monospace;;\n",
       "    font-size: 13px;\n",
       "    color: #555;\n",
       "    margin-left: 4px;\n",
       "    line-height: 19px;\n",
       "  }\n",
       "</style>\n",
       "<div class=\"ansiout\"></div>"
      ]
     },
     "metadata": {},
     "output_type": "display_data"
    }
   ],
   "source": [
    "movies = spark.read.load(\".../movies.csv\", format='csv', header = True)\n",
    "ratings = spark.read.load(\".../ratings.csv\", format='csv', header = True)\n",
    "links = spark.read.load(\".../links.csv\", format='csv', header = True)\n",
    "tags = spark.read.load(\".../tags.csv\", format='csv', header = True)"
   ]
  },
  {
   "cell_type": "code",
   "execution_count": 11,
   "metadata": {},
   "outputs": [
    {
     "data": {
      "text/html": [
       "<style scoped>\n",
       "  .ansiout {\n",
       "    display: block;\n",
       "    unicode-bidi: embed;\n",
       "    white-space: pre-wrap;\n",
       "    word-wrap: break-word;\n",
       "    word-break: break-all;\n",
       "    font-family: \"Source Code Pro\", \"Menlo\", monospace;;\n",
       "    font-size: 13px;\n",
       "    color: #555;\n",
       "    margin-left: 4px;\n",
       "    line-height: 19px;\n",
       "  }\n",
       "</style>\n",
       "<div class=\"ansiout\">Distinct values of ratings:\n",
       "0.5,1.0,1.5,2.0,2.5,3.0,3.5,4.0,4.5,5.0\n",
       "</div>"
      ]
     },
     "metadata": {},
     "output_type": "display_data"
    }
   ],
   "source": [
    "print('Distinct values of ratings:')\n",
    "print \",\".join(sorted(ratings.select('rating').distinct().rdd.map(lambda r: r[0]).collect()))"
   ]
  },
  {
   "cell_type": "code",
   "execution_count": 12,
   "metadata": {},
   "outputs": [
    {
     "data": {
      "text/html": [
       "<style scoped>\n",
       "  .ansiout {\n",
       "    display: block;\n",
       "    unicode-bidi: embed;\n",
       "    white-space: pre-wrap;\n",
       "    word-wrap: break-word;\n",
       "    word-break: break-all;\n",
       "    font-family: \"Source Code Pro\", \"Menlo\", monospace;;\n",
       "    font-size: 13px;\n",
       "    color: #555;\n",
       "    margin-left: 4px;\n",
       "    line-height: 19px;\n",
       "  }\n",
       "</style>\n",
       "<div class=\"ansiout\">For the users that rated movies and the movies that were rated:\n",
       "Minimum number of ratings per user is 20\n",
       "Minimum number of ratings per movie is 1\n",
       "</div>"
      ]
     },
     "metadata": {},
     "output_type": "display_data"
    }
   ],
   "source": [
    "tmp1 = ratings.groupBy(\"userID\").count().toPandas()['count'].min()\n",
    "tmp2 = ratings.groupBy(\"movieId\").count().toPandas()['count'].min()\n",
    "print('For the users that rated movies and the movies that were rated:')\n",
    "print('Minimum number of ratings per user is {}'.format(tmp1))\n",
    "print('Minimum number of ratings per movie is {}'.format(tmp2))"
   ]
  },
  {
   "cell_type": "code",
   "execution_count": 13,
   "metadata": {},
   "outputs": [
    {
     "data": {
      "text/html": [
       "<style scoped>\n",
       "  .ansiout {\n",
       "    display: block;\n",
       "    unicode-bidi: embed;\n",
       "    white-space: pre-wrap;\n",
       "    word-wrap: break-word;\n",
       "    word-break: break-all;\n",
       "    font-family: \"Source Code Pro\", \"Menlo\", monospace;;\n",
       "    font-size: 13px;\n",
       "    color: #555;\n",
       "    margin-left: 4px;\n",
       "    line-height: 19px;\n",
       "  }\n",
       "</style>\n",
       "<div class=\"ansiout\">3063 out of 9066 movies are rated by only one user\n",
       "</div>"
      ]
     },
     "metadata": {},
     "output_type": "display_data"
    }
   ],
   "source": [
    "tmp1 = sum(ratings.groupBy(\"movieId\").count().toPandas()['count'] == 1)\n",
    "tmp2 = ratings.select('movieId').distinct().count()\n",
    "print('{} out of {} movies are rated by only one user'.format(tmp1, tmp2))"
   ]
  },
  {
   "cell_type": "markdown",
   "metadata": {},
   "source": [
    "# The number of Users"
   ]
  },
  {
   "cell_type": "code",
   "execution_count": 15,
   "metadata": {},
   "outputs": [
    {
     "data": {
      "text/html": [
       "<style scoped>\n",
       "  .ansiout {\n",
       "    display: block;\n",
       "    unicode-bidi: embed;\n",
       "    white-space: pre-wrap;\n",
       "    word-wrap: break-word;\n",
       "    word-break: break-all;\n",
       "    font-family: \"Source Code Pro\", \"Menlo\", monospace;;\n",
       "    font-size: 13px;\n",
       "    color: #555;\n",
       "    margin-left: 4px;\n",
       "    line-height: 19px;\n",
       "  }\n",
       "</style>\n",
       "<div class=\"ansiout\">The number of Users from the Ratings dataset:\n",
       "671\n",
       "</div>"
      ]
     },
     "metadata": {},
     "output_type": "display_data"
    }
   ],
   "source": [
    "print('The number of Users from the Ratings dataset:')\n",
    "print (ratings.drop_duplicates(subset=['userId']).count())"
   ]
  },
  {
   "cell_type": "markdown",
   "metadata": {},
   "source": [
    "# The number of Movies"
   ]
  },
  {
   "cell_type": "code",
   "execution_count": 17,
   "metadata": {},
   "outputs": [
    {
     "data": {
      "text/html": [
       "<style scoped>\n",
       "  .ansiout {\n",
       "    display: block;\n",
       "    unicode-bidi: embed;\n",
       "    white-space: pre-wrap;\n",
       "    word-wrap: break-word;\n",
       "    word-break: break-all;\n",
       "    font-family: \"Source Code Pro\", \"Menlo\", monospace;;\n",
       "    font-size: 13px;\n",
       "    color: #555;\n",
       "    margin-left: 4px;\n",
       "    line-height: 19px;\n",
       "  }\n",
       "</style>\n",
       "<div class=\"ansiout\">The number of Movies from the Movies dataset:\n",
       "9125\n",
       "</div>"
      ]
     },
     "metadata": {},
     "output_type": "display_data"
    }
   ],
   "source": [
    "print('The number of Movies from the Movies dataset:')\n",
    "print (movies.drop_duplicates(subset=['movieId']).count())"
   ]
  },
  {
   "cell_type": "markdown",
   "metadata": {},
   "source": [
    "# List movies not rated before"
   ]
  },
  {
   "cell_type": "code",
   "execution_count": 19,
   "metadata": {},
   "outputs": [
    {
     "data": {
      "text/html": [
       "<style scoped>\n",
       "  .ansiout {\n",
       "    display: block;\n",
       "    unicode-bidi: embed;\n",
       "    white-space: pre-wrap;\n",
       "    word-wrap: break-word;\n",
       "    word-break: break-all;\n",
       "    font-family: \"Source Code Pro\", \"Menlo\", monospace;;\n",
       "    font-size: 13px;\n",
       "    color: #555;\n",
       "    margin-left: 4px;\n",
       "    line-height: 19px;\n",
       "  }\n",
       "</style>\n",
       "<div class=\"ansiout\">The number of Movies are Rated by Users from the Ratings dataset:\n",
       "9066\n",
       "</div>"
      ]
     },
     "metadata": {},
     "output_type": "display_data"
    }
   ],
   "source": [
    "print('The number of Movies are Rated by Users from the Ratings dataset:')\n",
    "print (ratings.drop_duplicates(subset=['movieId']).count())"
   ]
  },
  {
   "cell_type": "code",
   "execution_count": 20,
   "metadata": {},
   "outputs": [
    {
     "data": {
      "text/html": [
       "<style scoped>\n",
       "  .ansiout {\n",
       "    display: block;\n",
       "    unicode-bidi: embed;\n",
       "    white-space: pre-wrap;\n",
       "    word-wrap: break-word;\n",
       "    word-break: break-all;\n",
       "    font-family: \"Source Code Pro\", \"Menlo\", monospace;;\n",
       "    font-size: 13px;\n",
       "    color: #555;\n",
       "    margin-left: 4px;\n",
       "    line-height: 19px;\n",
       "  }\n",
       "</style>\n",
       "<div class=\"ansiout\">The number of Movies are not Rated by Users from the Ratings dataset:\n",
       "59\n",
       "</div>"
      ]
     },
     "metadata": {},
     "output_type": "display_data"
    }
   ],
   "source": [
    "print('The number of Movies are not Rated by Users from the Ratings dataset:')\n",
    "print (movies.drop_duplicates(subset=['movieId']).count() - ratings.drop_duplicates(subset=['movieId']).count())"
   ]
  },
  {
   "cell_type": "code",
   "execution_count": 21,
   "metadata": {},
   "outputs": [
    {
     "data": {
      "text/html": [
       "<style scoped>\n",
       "  .table-result-container {\n",
       "    max-height: 300px;\n",
       "    overflow: auto;\n",
       "  }\n",
       "  table, th, td {\n",
       "    border: 1px solid black;\n",
       "    border-collapse: collapse;\n",
       "  }\n",
       "  th, td {\n",
       "    padding: 5px;\n",
       "  }\n",
       "  th {\n",
       "    text-align: left;\n",
       "  }\n",
       "</style><div class='table-result-container'><table class='table-result'><thead style='background-color: white'><tr></tr></thead><tbody></tbody></table></div>"
      ]
     },
     "metadata": {},
     "output_type": "display_data"
    }
   ],
   "source": [
    "%sql\n",
    "CREATE TEMPORARY TABLE movies_\n",
    "  USING csv\n",
    "  OPTIONS (path \"/FileStore/tables/movies.csv\", header \"true\")"
   ]
  },
  {
   "cell_type": "code",
   "execution_count": 22,
   "metadata": {},
   "outputs": [
    {
     "data": {
      "text/html": [
       "<style scoped>\n",
       "  .table-result-container {\n",
       "    max-height: 300px;\n",
       "    overflow: auto;\n",
       "  }\n",
       "  table, th, td {\n",
       "    border: 1px solid black;\n",
       "    border-collapse: collapse;\n",
       "  }\n",
       "  th, td {\n",
       "    padding: 5px;\n",
       "  }\n",
       "  th {\n",
       "    text-align: left;\n",
       "  }\n",
       "</style><div class='table-result-container'><table class='table-result'><thead style='background-color: white'><tr></tr></thead><tbody></tbody></table></div>"
      ]
     },
     "metadata": {},
     "output_type": "display_data"
    }
   ],
   "source": [
    "%sql\n",
    "CREATE TEMPORARY TABLE rates_\n",
    "  USING csv\n",
    "  OPTIONS (path \"/FileStore/tables/ratings.csv\", header \"true\")"
   ]
  },
  {
   "cell_type": "code",
   "execution_count": 23,
   "metadata": {},
   "outputs": [
    {
     "data": {
      "text/html": [
       "<style scoped>\n",
       "  .table-result-container {\n",
       "    max-height: 300px;\n",
       "    overflow: auto;\n",
       "  }\n",
       "  table, th, td {\n",
       "    border: 1px solid black;\n",
       "    border-collapse: collapse;\n",
       "  }\n",
       "  th, td {\n",
       "    padding: 5px;\n",
       "  }\n",
       "  th {\n",
       "    text-align: left;\n",
       "  }\n",
       "</style><div class='table-result-container'><table class='table-result'><thead style='background-color: white'><tr><th>title</th></tr></thead><tbody><tr><td>Welcome to Me (2014)</td></tr><tr><td>Story of O, The (Histoire d'O) (1975)</td></tr><tr><td>Grandma (2015)</td></tr><tr><td>Immigrant, The (2013)</td></tr><tr><td>The Neon Demon (2016)</td></tr><tr><td>Nerve (2016)</td></tr><tr><td>Pickup on South Street (1953)</td></tr><tr><td>You Only Live Once (1937)</td></tr><tr><td>Berserk (1967)</td></tr><tr><td>February (2015)</td></tr><tr><td>While the City Sleeps (1956)</td></tr><tr><td>Stranger, The (1946)</td></tr><tr><td>Wild Child, The (Enfant sauvage, L') (1970)</td></tr><tr><td>Cincinnati Kid, The (1965)</td></tr><tr><td>1971 (2014)</td></tr><tr><td>Shin Godzilla (2016)</td></tr><tr><td>Kiss of Death (1947)</td></tr><tr><td>Two-Lane Blacktop (1971)</td></tr><tr><td>Fire (1996)</td></tr><tr><td>Scarlet Street (1945)</td></tr><tr><td>Facing the Giants (2006)</td></tr><tr><td>A Girl Like Her (2015)</td></tr><tr><td>Big Clock, The (1948)</td></tr><tr><td>The Story on Page One (1959)</td></tr><tr><td>Drunk Stoned Brilliant Dead: The Story of the National Lampoon (2015)</td></tr><tr><td>The Handmaiden (2016)</td></tr><tr><td>Hell or High Water (2016)</td></tr><tr><td>Truth (2015)</td></tr><tr><td>Kansas City Confidential (1952)</td></tr><tr><td>The Stanford Prison Experiment (2015)</td></tr><tr><td>Rocket, The (2013)</td></tr><tr><td>Nightfall (1957)</td></tr><tr><td>Woman in Gold (2015)</td></tr><tr><td>Challenge to Lassie (1949)</td></tr><tr><td>Body and Soul (1947)</td></tr><tr><td>Springsteen & I (2013)</td></tr><tr><td>Selma (2014)</td></tr><tr><td>Kahaani (2012)</td></tr><tr><td>Author: The JT LeRoy Story (2016)</td></tr><tr><td>Love God?, The (1969)</td></tr><tr><td>Sudden Fear (1952)</td></tr><tr><td>Late Spring (Banshun) (1949)</td></tr><tr><td>White God (Fehér isten) (2014)</td></tr><tr><td>When the Levees Broke: A Requiem in Four Acts (2006)</td></tr><tr><td>Iron Ladies, The (Satree lek) (2000)</td></tr><tr><td>Women of '69, Unboxed</td></tr><tr><td>The Passionate Plumber (1932)</td></tr><tr><td>Intolerance: Love's Struggle Throughout the Ages (1916)</td></tr><tr><td>Wish You Were Here (2012)</td></tr><tr><td>The Gallows (2015)</td></tr><tr><td>White Bird in a Blizzard (2014)</td></tr><tr><td>The Gay Desperado (1936)</td></tr><tr><td>Passion (2012)</td></tr><tr><td>After School Special (a.k.a. Barely Legal) (2003)</td></tr><tr><td>Monkey Kingdom (2015)</td></tr><tr><td>Black Angel (1946)</td></tr><tr><td>Lions For Lambs (2007)</td></tr><tr><td>Belle (2013)</td></tr><tr><td>Stormy Weather (1943)</td></tr></tbody></table></div>"
      ]
     },
     "metadata": {},
     "output_type": "display_data"
    }
   ],
   "source": [
    "%sql\n",
    "SELECT title\n",
    "FROM movies_ m\n",
    "WHERE m.movieId NOT IN (SELECT movieId FROM rates_)\n",
    "group by title"
   ]
  },
  {
   "cell_type": "markdown",
   "metadata": {},
   "source": [
    "## Part2: Spark ALS based approach for training model\n",
    "I will use an RDD-based API from [pyspark.mllib](https://spark.apache.org/docs/2.1.1/mllib-collaborative-filtering.html) to predict the ratings, so let's reload \"ratings.csv\" using ``sc.textFile`` and then convert it to the form of (user, item, rating) tuples."
   ]
  },
  {
   "cell_type": "markdown",
   "metadata": {},
   "source": [
    "### ALS Model Selection and Evaluation\n",
    "\n",
    "With the ALS model, we can use a grid search to find the optimal hyperparameters."
   ]
  },
  {
   "cell_type": "code",
   "execution_count": 31,
   "metadata": {},
   "outputs": [
    {
     "data": {
      "text/html": [
       "<style scoped>\n",
       "  .ansiout {\n",
       "    display: block;\n",
       "    unicode-bidi: embed;\n",
       "    white-space: pre-wrap;\n",
       "    word-wrap: break-word;\n",
       "    word-break: break-all;\n",
       "    font-family: \"Source Code Pro\", \"Menlo\", monospace;;\n",
       "    font-size: 13px;\n",
       "    color: #555;\n",
       "    margin-left: 4px;\n",
       "    line-height: 19px;\n",
       "  }\n",
       "</style>\n",
       "<div class=\"ansiout\"></div>"
      ]
     },
     "metadata": {},
     "output_type": "display_data"
    }
   ],
   "source": [
    "movie_rating = sc.textFile(\"/FileStore/tables/ratings.csv\")"
   ]
  },
  {
   "cell_type": "code",
   "execution_count": 32,
   "metadata": {},
   "outputs": [
    {
     "data": {
      "text/html": [
       "<style scoped>\n",
       "  .ansiout {\n",
       "    display: block;\n",
       "    unicode-bidi: embed;\n",
       "    white-space: pre-wrap;\n",
       "    word-wrap: break-word;\n",
       "    word-break: break-all;\n",
       "    font-family: \"Source Code Pro\", \"Menlo\", monospace;;\n",
       "    font-size: 13px;\n",
       "    color: #555;\n",
       "    margin-left: 4px;\n",
       "    line-height: 19px;\n",
       "  }\n",
       "</style>\n",
       "<div class=\"ansiout\"></div>"
      ]
     },
     "metadata": {},
     "output_type": "display_data"
    }
   ],
   "source": [
    "#data preparation:\n",
    "head = movie_rating.take(1)[0]\n",
    "rating_data = movie_rating.filter(lambda x: x!= head).map(lambda x: x.split(',')).map(lambda tokens: (tokens[0], tokens[1], tokens[2])).cache()"
   ]
  },
  {
   "cell_type": "markdown",
   "metadata": {},
   "source": [
    "Now I split the data into training/validation/testing sets using a 6/2/2 ratio."
   ]
  },
  {
   "cell_type": "code",
   "execution_count": 33,
   "metadata": {},
   "outputs": [
    {
     "data": {
      "text/html": [
       "<style scoped>\n",
       "  .ansiout {\n",
       "    display: block;\n",
       "    unicode-bidi: embed;\n",
       "    white-space: pre-wrap;\n",
       "    word-wrap: break-word;\n",
       "    word-break: break-all;\n",
       "    font-family: \"Source Code Pro\", \"Menlo\", monospace;;\n",
       "    font-size: 13px;\n",
       "    color: #555;\n",
       "    margin-left: 4px;\n",
       "    line-height: 19px;\n",
       "  }\n",
       "</style>\n",
       "<div class=\"ansiout\"></div>"
      ]
     },
     "metadata": {},
     "output_type": "display_data"
    }
   ],
   "source": [
    "#data split: Now I split the data into training/validation/testing sets using a 6/2/2 ratio.\n",
    "train, cv, test = rating_data.randomSplit([6,2,2], seed = 7856)"
   ]
  },
  {
   "cell_type": "code",
   "execution_count": 34,
   "metadata": {},
   "outputs": [
    {
     "data": {
      "text/html": [
       "<style scoped>\n",
       "  .ansiout {\n",
       "    display: block;\n",
       "    unicode-bidi: embed;\n",
       "    white-space: pre-wrap;\n",
       "    word-wrap: break-word;\n",
       "    word-break: break-all;\n",
       "    font-family: \"Source Code Pro\", \"Menlo\", monospace;;\n",
       "    font-size: 13px;\n",
       "    color: #555;\n",
       "    margin-left: 4px;\n",
       "    line-height: 19px;\n",
       "  }\n",
       "</style>\n",
       "<div class=\"ansiout\"></div>"
      ]
     },
     "metadata": {},
     "output_type": "display_data"
    }
   ],
   "source": [
    "train_pre = train.map(lambda x: (x[0], x[1]))\n",
    "cv_pre = cv.map(lambda x: (x[0], x[1]))\n",
    "test_pre = test.map(lambda x: (x[0], x[1]))"
   ]
  },
  {
   "cell_type": "code",
   "execution_count": 35,
   "metadata": {},
   "outputs": [
    {
     "data": {
      "text/html": [
       "<style scoped>\n",
       "  .ansiout {\n",
       "    display: block;\n",
       "    unicode-bidi: embed;\n",
       "    white-space: pre-wrap;\n",
       "    word-wrap: break-word;\n",
       "    word-break: break-all;\n",
       "    font-family: \"Source Code Pro\", \"Menlo\", monospace;;\n",
       "    font-size: 13px;\n",
       "    color: #555;\n",
       "    margin-left: 4px;\n",
       "    line-height: 19px;\n",
       "  }\n",
       "</style>\n",
       "<div class=\"ansiout\"><span class=\"ansired\">Out[</span><span class=\"ansired\">13</span><span class=\"ansired\">]: </span>PythonRDD[167] at RDD at PythonRDD.scala:51\n",
       "</div>"
      ]
     },
     "metadata": {},
     "output_type": "display_data"
    }
   ],
   "source": [
    "#cache() will cache the RDD into memory\n",
    "#It is one mechanism to speed up applications that access the same RDD multiple times.\n",
    "train.cache()\n",
    "train_pre.cache()\n",
    "cv.cache()\n",
    "cv_pre.cache()\n",
    "test.cache()\n",
    "test_pre.cache()"
   ]
  },
  {
   "cell_type": "markdown",
   "metadata": {},
   "source": [
    "### Model testing\n",
    "And finally, make a prediction and check the testing error."
   ]
  },
  {
   "cell_type": "code",
   "execution_count": 37,
   "metadata": {},
   "outputs": [
    {
     "data": {
      "text/html": [
       "<style scoped>\n",
       "  .ansiout {\n",
       "    display: block;\n",
       "    unicode-bidi: embed;\n",
       "    white-space: pre-wrap;\n",
       "    word-wrap: break-word;\n",
       "    word-break: break-all;\n",
       "    font-family: \"Source Code Pro\", \"Menlo\", monospace;;\n",
       "    font-size: 13px;\n",
       "    color: #555;\n",
       "    margin-left: 4px;\n",
       "    line-height: 19px;\n",
       "  }\n",
       "</style>\n",
       "<div class=\"ansiout\"></div>"
      ]
     },
     "metadata": {},
     "output_type": "display_data"
    }
   ],
   "source": [
    "def train_ALS(train, cv, train_pre, cv_pre, num_iters, reg_param, ranks):\n",
    "    min_error = float('inf')\n",
    "    best_rank = -1\n",
    "    best_regularization = 0\n",
    "    best_model = None\n",
    "    #err = 0\n",
    "    err = []\n",
    "    train_err = []\n",
    "    for rank in ranks:\n",
    "        for reg in reg_param:\n",
    "            # write your approach to train ALS model\n",
    "            # Build the recommendation model using ALS on the training data\n",
    "            # Note we set cold start strategy to 'drop' to ensure we don't get NaN evaluation metrics\n",
    "            model = ALS.train(train, rank, iterations=num_iters,lambda_=reg)\n",
    "            # get the rating result:\n",
    "            train_predictions = model.predictAll(train_pre).map(lambda x: ((x[0], x[1]), x[2]))\n",
    "            train_rap = train.map(lambda x: ((int(x[0]), int(x[1])), float(x[2]))).join(train_predictions)\n",
    "            train_error = math.sqrt(train_rap.map(lambda x: (x[1][0] - x[1][1])**2).mean())\n",
    "            train_err.append(train_error)\n",
    "            #cv:\n",
    "            predictions = model.predictAll(cv_pre).map(lambda x: ((x[0], x[1]), x[2]))\n",
    "            rates_and_preds = cv.map(lambda x: ((int(x[0]), int(x[1])), float(x[2]))).join(predictions)\n",
    "            # get the RMSE\n",
    "            error = math.sqrt(rates_and_preds.map(lambda x: (x[1][0] - x[1][1])**2).mean())\n",
    "            err.append(error)\n",
    "            print ('{} latent factors and regularization = {}: validation RMSE is {}'.format(rank, reg, error))\n",
    "            if error < min_error:\n",
    "                min_error = error\n",
    "                best_rank = rank\n",
    "                best_regularization = reg\n",
    "                best_model = model\n",
    "    cv_prediction = best_model.predictAll(cv_pre).map(lambda x: ((x[0], x[1]), x[2]))\n",
    "    print ('\\nThe best model has {} latent factors and regularization = {}'.format(best_rank, best_regularization))\n",
    "    return best_model, best_rank, best_regularization, min_error, err, train_err\n"
   ]
  },
  {
   "cell_type": "code",
   "execution_count": 38,
   "metadata": {},
   "outputs": [
    {
     "data": {
      "text/html": [
       "<style scoped>\n",
       "  .ansiout {\n",
       "    display: block;\n",
       "    unicode-bidi: embed;\n",
       "    white-space: pre-wrap;\n",
       "    word-wrap: break-word;\n",
       "    word-break: break-all;\n",
       "    font-family: \"Source Code Pro\", \"Menlo\", monospace;;\n",
       "    font-size: 13px;\n",
       "    color: #555;\n",
       "    margin-left: 4px;\n",
       "    line-height: 19px;\n",
       "  }\n",
       "</style>\n",
       "<div class=\"ansiout\"></div>"
      ]
     },
     "metadata": {},
     "output_type": "display_data"
    }
   ],
   "source": [
    "num_iterations = 10\n",
    "ranks = [6, 8, 10, 12, 14]\n",
    "reg_params = [0.05, 0.1, 0.2, 0.4, 0.8]"
   ]
  },
  {
   "cell_type": "code",
   "execution_count": 39,
   "metadata": {},
   "outputs": [
    {
     "data": {
      "text/html": [
       "<style scoped>\n",
       "  .ansiout {\n",
       "    display: block;\n",
       "    unicode-bidi: embed;\n",
       "    white-space: pre-wrap;\n",
       "    word-wrap: break-word;\n",
       "    word-break: break-all;\n",
       "    font-family: \"Source Code Pro\", \"Menlo\", monospace;;\n",
       "    font-size: 13px;\n",
       "    color: #555;\n",
       "    margin-left: 4px;\n",
       "    line-height: 19px;\n",
       "  }\n",
       "</style>\n",
       "<div class=\"ansiout\">6 latent factors and regularization = 0.05: validation RMSE is 1.02417401443\n",
       "6 latent factors and regularization = 0.1: validation RMSE is 0.958616940906\n",
       "6 latent factors and regularization = 0.2: validation RMSE is 0.936749265672\n",
       "6 latent factors and regularization = 0.4: validation RMSE is 0.997803677721\n",
       "6 latent factors and regularization = 0.8: validation RMSE is 1.21439057968\n",
       "8 latent factors and regularization = 0.05: validation RMSE is 1.04022931292\n",
       "8 latent factors and regularization = 0.1: validation RMSE is 0.959433400495\n",
       "8 latent factors and regularization = 0.2: validation RMSE is 0.937475046334\n",
       "8 latent factors and regularization = 0.4: validation RMSE is 0.99850455709\n",
       "8 latent factors and regularization = 0.8: validation RMSE is 1.21438875741\n",
       "10 latent factors and regularization = 0.05: validation RMSE is 1.04746200782\n",
       "10 latent factors and regularization = 0.1: validation RMSE is 0.954764539074\n",
       "10 latent factors and regularization = 0.2: validation RMSE is 0.937035224493\n",
       "10 latent factors and regularization = 0.4: validation RMSE is 0.997950790683\n",
       "10 latent factors and regularization = 0.8: validation RMSE is 1.21439191237\n",
       "12 latent factors and regularization = 0.05: validation RMSE is 1.05241599787\n",
       "12 latent factors and regularization = 0.1: validation RMSE is 0.957584931332\n",
       "12 latent factors and regularization = 0.2: validation RMSE is 0.93641504817\n",
       "12 latent factors and regularization = 0.4: validation RMSE is 0.998798846102\n",
       "12 latent factors and regularization = 0.8: validation RMSE is 1.21439349013\n",
       "14 latent factors and regularization = 0.05: validation RMSE is 1.05728116196\n",
       "14 latent factors and regularization = 0.1: validation RMSE is 0.961514394923\n",
       "14 latent factors and regularization = 0.2: validation RMSE is 0.935113784429\n",
       "14 latent factors and regularization = 0.4: validation RMSE is 0.998425043359\n",
       "14 latent factors and regularization = 0.8: validation RMSE is 1.21438790155\n",
       "\n",
       "The best model has 14 latent factors and regularization = 0.2\n",
       "</div>"
      ]
     },
     "metadata": {},
     "output_type": "display_data"
    }
   ],
   "source": [
    "import time\n",
    "start_time = time.time()\n",
    "final_model, best_tank, best_regularization, min_error, err, train_err = train_ALS(train = train, cv = cv,  train_pre = train_pre, cv_pre = cv_pre, num_iters = num_iterations, reg_param = reg_params, ranks = ranks)"
   ]
  },
  {
   "cell_type": "code",
   "execution_count": 40,
   "metadata": {},
   "outputs": [
    {
     "data": {
      "text/html": [
       "<style scoped>\n",
       "  .ansiout {\n",
       "    display: block;\n",
       "    unicode-bidi: embed;\n",
       "    white-space: pre-wrap;\n",
       "    word-wrap: break-word;\n",
       "    word-break: break-all;\n",
       "    font-family: \"Source Code Pro\", \"Menlo\", monospace;;\n",
       "    font-size: 13px;\n",
       "    color: #555;\n",
       "    margin-left: 4px;\n",
       "    line-height: 19px;\n",
       "  }\n",
       "</style>\n",
       "<div class=\"ansiout\">Total Runtime: 457.32 seconds\n",
       "</div>"
      ]
     },
     "metadata": {},
     "output_type": "display_data"
    }
   ],
   "source": [
    "print ('Total Runtime: {:.2f} seconds'.format(time.time() - start_time))"
   ]
  },
  {
   "cell_type": "code",
   "execution_count": 42,
   "metadata": {},
   "outputs": [
    {
     "data": {
      "text/html": [
       "<style scoped>\n",
       "  .ansiout {\n",
       "    display: block;\n",
       "    unicode-bidi: embed;\n",
       "    white-space: pre-wrap;\n",
       "    word-wrap: break-word;\n",
       "    word-break: break-all;\n",
       "    font-family: \"Source Code Pro\", \"Menlo\", monospace;;\n",
       "    font-size: 13px;\n",
       "    color: #555;\n",
       "    margin-left: 4px;\n",
       "    line-height: 19px;\n",
       "  }\n",
       "</style>\n",
       "<div class=\"ansiout\"><span class=\"ansired\">Out[</span><span class=\"ansired\">20</span><span class=\"ansired\">]: </span>\n",
       "[(512,\n",
       "  (Rating(user=512, product=67504, rating=5.404407277292453),\n",
       "   Rating(user=512, product=83411, rating=5.404407277292453),\n",
       "   Rating(user=512, product=83318, rating=5.404407277292453),\n",
       "   Rating(user=512, product=76173, rating=5.14732936810112),\n",
       "   Rating(user=512, product=31435, rating=5.14732936810112),\n",
       "   Rating(user=512, product=59684, rating=5.14732936810112),\n",
       "   Rating(user=512, product=7669, rating=5.002620500730329),\n",
       "   Rating(user=512, product=5490, rating=4.915614423925212),\n",
       "   Rating(user=512, product=106438, rating=4.8879094522387545),\n",
       "   Rating(user=512, product=8955, rating=4.87451818664419)))]\n",
       "</div>"
      ]
     },
     "metadata": {},
     "output_type": "display_data"
    }
   ],
   "source": [
    "#recommend movies for users:\n",
    "final_model.recommendProductsForUsers(10).take(1)"
   ]
  },
  {
   "cell_type": "code",
   "execution_count": 43,
   "metadata": {},
   "outputs": [
    {
     "data": {
      "text/html": [
       "<style scoped>\n",
       "  .ansiout {\n",
       "    display: block;\n",
       "    unicode-bidi: embed;\n",
       "    white-space: pre-wrap;\n",
       "    word-wrap: break-word;\n",
       "    word-break: break-all;\n",
       "    font-family: \"Source Code Pro\", \"Menlo\", monospace;;\n",
       "    font-size: 13px;\n",
       "    color: #555;\n",
       "    margin-left: 4px;\n",
       "    line-height: 19px;\n",
       "  }\n",
       "</style>\n",
       "<div class=\"ansiout\"></div>"
      ]
     },
     "metadata": {},
     "output_type": "display_data"
    }
   ],
   "source": [
    "#test the selected model:\n",
    "test_model = final_model.predictAll(test_pre).map(lambda x: ((x[0], x[1]), x[2]))\n",
    "test_rates_and_preds = test.map(lambda x: ((int(x[0]), int(x[1])), float(x[2]))).join(test_model)\n",
    "test_error = math.sqrt(test_rates_and_preds.map(lambda x: (x[1][0] - x[1][1])**2).mean())"
   ]
  },
  {
   "cell_type": "code",
   "execution_count": 44,
   "metadata": {},
   "outputs": [
    {
     "data": {
      "text/html": [
       "<style scoped>\n",
       "  .ansiout {\n",
       "    display: block;\n",
       "    unicode-bidi: embed;\n",
       "    white-space: pre-wrap;\n",
       "    word-wrap: break-word;\n",
       "    word-break: break-all;\n",
       "    font-family: \"Source Code Pro\", \"Menlo\", monospace;;\n",
       "    font-size: 13px;\n",
       "    color: #555;\n",
       "    margin-left: 4px;\n",
       "    line-height: 19px;\n",
       "  }\n",
       "</style>\n",
       "<div class=\"ansiout\">For testing data the RMSE is 0.909215619274\n",
       "</div>"
      ]
     },
     "metadata": {},
     "output_type": "display_data"
    }
   ],
   "source": [
    "print ('For testing data the RMSE is %s' % (test_error))"
   ]
  },
  {
   "cell_type": "code",
   "execution_count": 45,
   "metadata": {},
   "outputs": [
    {
     "data": {
      "text/html": [
       "<style scoped>\n",
       "  .ansiout {\n",
       "    display: block;\n",
       "    unicode-bidi: embed;\n",
       "    white-space: pre-wrap;\n",
       "    word-wrap: break-word;\n",
       "    word-break: break-all;\n",
       "    font-family: \"Source Code Pro\", \"Menlo\", monospace;;\n",
       "    font-size: 13px;\n",
       "    color: #555;\n",
       "    margin-left: 4px;\n",
       "    line-height: 19px;\n",
       "  }\n",
       "</style>\n",
       "<div class=\"ansiout\"></div>"
      ]
     },
     "metadata": {},
     "output_type": "display_data"
    }
   ],
   "source": [
    "iter_array = [x for x in range(1, 26)]"
   ]
  },
  {
   "cell_type": "code",
   "execution_count": 46,
   "metadata": {},
   "outputs": [
    {
     "data": {
      "image/png": "[encoded data removed]"
     },
     "metadata": {},
     "output_type": "display_data"
    }
   ],
   "source": [
    "plt.cla()\n",
    "#plot learning curve\n",
    "plt.figure(figsize=(16, 9))\n",
    "plt.plot(iter_array, train_err, label='Training', linewidth=5)\n",
    "plt.plot(iter_array, err, label='Validation', linewidth=5)\n",
    "plt.xticks(range(0, max(iter_array) + 1, 2), fontsize=10)\n",
    "plt.yticks(fontsize=16)\n",
    "plt.xlabel('iterations', fontsize=10)\n",
    "plt.ylabel('RMSE', fontsize=10)\n",
    "plt.legend(loc='best', fontsize=10) \n",
    "plt.show()\n",
    "display()"
   ]
  }
 ],
 "metadata": {
  "kernelspec": {
   "display_name": "Python 3",
   "language": "python",
   "name": "python3"
  },
  "language_info": {
   "codemirror_mode": {
    "name": "ipython",
    "version": 3
   },
   "file_extension": ".py",
   "mimetype": "text/x-python",
   "name": "python",
   "nbconvert_exporter": "python",
   "pygments_lexer": "ipython3",
   "version": "3.6.5"
  },
  "name": "MOVIE RECOMMENDATION",
  "notebookId": 2075184692869295
 },
 "nbformat": 4,
 "nbformat_minor": 1
}
